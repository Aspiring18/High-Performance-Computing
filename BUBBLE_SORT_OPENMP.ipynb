{
  "nbformat": 4,
  "nbformat_minor": 0,
  "metadata": {
    "colab": {
      "provenance": []
    },
    "kernelspec": {
      "name": "python3",
      "display_name": "Python 3"
    },
    "language_info": {
      "name": "python"
    }
  },
  "cells": [
    {
      "cell_type": "code",
      "execution_count": 1,
      "metadata": {
        "colab": {
          "base_uri": "https://localhost:8080/"
        },
        "id": "ciuLbfT6PreX",
        "outputId": "a5d8aa8d-05b1-4307-e753-7d6c446141dc"
      },
      "outputs": [
        {
          "output_type": "stream",
          "name": "stdout",
          "text": [
            "Reading package lists... Done\n",
            "Building dependency tree... Done\n",
            "Reading state information... Done\n",
            "The following additional packages will be installed:\n",
            "  libomp-14-dev libomp5-14\n",
            "Suggested packages:\n",
            "  libomp-14-doc\n",
            "The following NEW packages will be installed:\n",
            "  libomp-14-dev libomp-dev libomp5-14\n",
            "0 upgraded, 3 newly installed, 0 to remove and 45 not upgraded.\n",
            "Need to get 738 kB of archives.\n",
            "After this operation, 8,991 kB of additional disk space will be used.\n",
            "Get:1 http://archive.ubuntu.com/ubuntu jammy-updates/universe amd64 libomp5-14 amd64 1:14.0.0-1ubuntu1.1 [389 kB]\n",
            "Get:2 http://archive.ubuntu.com/ubuntu jammy-updates/universe amd64 libomp-14-dev amd64 1:14.0.0-1ubuntu1.1 [347 kB]\n",
            "Get:3 http://archive.ubuntu.com/ubuntu jammy/universe amd64 libomp-dev amd64 1:14.0-55~exp2 [3,074 B]\n",
            "Fetched 738 kB in 1s (1,095 kB/s)\n",
            "Selecting previously unselected package libomp5-14:amd64.\n",
            "(Reading database ... 121752 files and directories currently installed.)\n",
            "Preparing to unpack .../libomp5-14_1%3a14.0.0-1ubuntu1.1_amd64.deb ...\n",
            "Unpacking libomp5-14:amd64 (1:14.0.0-1ubuntu1.1) ...\n",
            "Selecting previously unselected package libomp-14-dev.\n",
            "Preparing to unpack .../libomp-14-dev_1%3a14.0.0-1ubuntu1.1_amd64.deb ...\n",
            "Unpacking libomp-14-dev (1:14.0.0-1ubuntu1.1) ...\n",
            "Selecting previously unselected package libomp-dev:amd64.\n",
            "Preparing to unpack .../libomp-dev_1%3a14.0-55~exp2_amd64.deb ...\n",
            "Unpacking libomp-dev:amd64 (1:14.0-55~exp2) ...\n",
            "Setting up libomp5-14:amd64 (1:14.0.0-1ubuntu1.1) ...\n",
            "Setting up libomp-14-dev (1:14.0.0-1ubuntu1.1) ...\n",
            "Setting up libomp-dev:amd64 (1:14.0-55~exp2) ...\n",
            "Processing triggers for libc-bin (2.35-0ubuntu3.4) ...\n",
            "/sbin/ldconfig.real: /usr/local/lib/libtbbmalloc.so.2 is not a symbolic link\n",
            "\n",
            "/sbin/ldconfig.real: /usr/local/lib/libtbbbind_2_0.so.3 is not a symbolic link\n",
            "\n",
            "/sbin/ldconfig.real: /usr/local/lib/libtbbbind.so.3 is not a symbolic link\n",
            "\n",
            "/sbin/ldconfig.real: /usr/local/lib/libtbb.so.12 is not a symbolic link\n",
            "\n",
            "/sbin/ldconfig.real: /usr/local/lib/libtbbbind_2_5.so.3 is not a symbolic link\n",
            "\n",
            "/sbin/ldconfig.real: /usr/local/lib/libtbbmalloc_proxy.so.2 is not a symbolic link\n",
            "\n"
          ]
        }
      ],
      "source": [
        "!apt-get install libomp-dev"
      ]
    },
    {
      "cell_type": "code",
      "source": [
        "%%writefile bubblesort.cpp\n",
        "#include <iostream>\n",
        "#include <vector>\n",
        "#include <omp.h>\n",
        "\n",
        "using namespace std;\n",
        "\n",
        "void bubble_sort_serial(vector<int>& arr) {\n",
        "    int n = arr.size();\n",
        "    bool swapped;\n",
        "    for (int i = 0; i < n-1; i++) {\n",
        "        swapped = false;\n",
        "        for (int j = 0; j < n-i-1; j++) {\n",
        "            if (arr[j] > arr[j+1]) {\n",
        "                swap(arr[j], arr[j+1]);\n",
        "                swapped = true;\n",
        "            }\n",
        "        }\n",
        "        if (!swapped) {\n",
        "            break;\n",
        "        }\n",
        "    }\n",
        "}\n",
        "\n",
        "void bubble_sort_odd_even(vector<int>& arr) {\n",
        "    bool isSorted = false;\n",
        "    while (!isSorted) {\n",
        "        isSorted = true;\n",
        "        #pragma omp parallel for\n",
        "        for (int i = 0; i < arr.size() - 1; i += 2) {\n",
        "            if (arr[i] > arr[i + 1]) {\n",
        "                swap(arr[i], arr[i + 1]);\n",
        "                isSorted = false;\n",
        "            }\n",
        "        }\n",
        "        #pragma omp parallel for\n",
        "        for (int i = 1; i < arr.size() - 1; i += 2) {\n",
        "            if (arr[i] > arr[i + 1]) {\n",
        "                swap(arr[i], arr[i + 1]);\n",
        "                isSorted = false;\n",
        "            }\n",
        "        }\n",
        "    }\n",
        "}\n",
        "\n",
        "int main() {\n",
        "    int n;\n",
        "    cout << \"Enter the number of elements: \";\n",
        "    cin >> n;\n",
        "\n",
        "    vector<int> arr(n), arr_copy(n);\n",
        "    cout << \"Enter the elements: \";\n",
        "    for (int i = 0; i < n; i++) {\n",
        "        cin >> arr[i];\n",
        "        arr_copy[i] = arr[i];\n",
        "    }\n",
        "\n",
        "    double start, end;\n",
        "\n",
        "    // Measure performance of serial bubble sort\n",
        "    start = omp_get_wtime();\n",
        "    bubble_sort_serial(arr);\n",
        "    end = omp_get_wtime();\n",
        "    cout << \"Sorted array using serial bubble sort: \";\n",
        "    for (int i = 0; i < n; i++) {\n",
        "        cout << arr[i] << \" \";\n",
        "    }\n",
        "    cout << endl;\n",
        "    cout << \"Serial bubble sort time: \" << end - start << \" seconds\" << endl;\n",
        "\n",
        "    // Measure performance of parallel bubble sort using odd-even transposition\n",
        "    start = omp_get_wtime();\n",
        "    bubble_sort_odd_even(arr_copy);\n",
        "    end = omp_get_wtime();\n",
        "    cout << \"Sorted array using parallel bubble sort: \";\n",
        "    for (int i = 0; i < n; i++) {\n",
        "        cout << arr_copy[i] << \" \";\n",
        "    }\n",
        "    cout << endl;\n",
        "    cout << \"Parallel bubble sort using odd-even transposition time: \" << end - start << \" seconds\" << endl;\n",
        "\n",
        "    return 0;\n",
        "}\n",
        "//g++ -fopenmp bubblesort.cpp -o bubblesort\n",
        "//./bubblesort"
      ],
      "metadata": {
        "colab": {
          "base_uri": "https://localhost:8080/"
        },
        "id": "K6NCNyJZP6OB",
        "outputId": "42ad9691-2106-4178-a159-0a0149cc62ac"
      },
      "execution_count": 7,
      "outputs": [
        {
          "output_type": "stream",
          "name": "stdout",
          "text": [
            "Writing bubblesort.cpp\n"
          ]
        }
      ]
    },
    {
      "cell_type": "code",
      "source": [
        "!clang++ -fopenmp bubblesort.cpp -o bubblesort\n",
        "!./bubblesort"
      ],
      "metadata": {
        "colab": {
          "base_uri": "https://localhost:8080/"
        },
        "id": "2buXOYyRQpES",
        "outputId": "848f3988-40b8-4b6c-cf3e-3c8d0d88d53a"
      },
      "execution_count": 9,
      "outputs": [
        {
          "output_type": "stream",
          "name": "stdout",
          "text": [
            "Enter the number of elements: 4\n",
            "Enter the elements: 11 2 33 5\n",
            "Sorted array using serial bubble sort: 2 5 11 33 \n",
            "Serial bubble sort time: 4.05312e-06 seconds\n",
            "Sorted array using parallel bubble sort: 2 5 11 33 \n",
            "Parallel bubble sort using odd-even transposition time: 0.00133991 seconds\n"
          ]
        }
      ]
    },
    {
      "cell_type": "code",
      "source": [],
      "metadata": {
        "id": "LiitDHYGQwAu"
      },
      "execution_count": null,
      "outputs": []
    }
  ]
}