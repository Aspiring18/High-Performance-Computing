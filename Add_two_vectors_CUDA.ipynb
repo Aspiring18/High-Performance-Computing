{
  "nbformat": 4,
  "nbformat_minor": 0,
  "metadata": {
    "colab": {
      "provenance": [],
      "gpuType": "T4"
    },
    "kernelspec": {
      "name": "python3",
      "display_name": "Python 3"
    },
    "language_info": {
      "name": "python"
    },
    "accelerator": "GPU"
  },
  "cells": [
    {
      "cell_type": "code",
      "source": [
        "\n",
        "!nvcc --version\n",
        "!pip install git+https://github.com/afnan47/cuda.git\n",
        "%load_ext nvcc_plugin\n",
        ""
      ],
      "metadata": {
        "colab": {
          "base_uri": "https://localhost:8080/"
        },
        "id": "LiitDHYGQwAu",
        "outputId": "184d7ceb-3130-4cd7-d373-a925ecf306ad"
      },
      "execution_count": 1,
      "outputs": [
        {
          "output_type": "stream",
          "name": "stdout",
          "text": [
            "nvcc: NVIDIA (R) Cuda compiler driver\n",
            "Copyright (c) 2005-2023 NVIDIA Corporation\n",
            "Built on Tue_Aug_15_22:02:13_PDT_2023\n",
            "Cuda compilation tools, release 12.2, V12.2.140\n",
            "Build cuda_12.2.r12.2/compiler.33191640_0\n",
            "Collecting git+https://github.com/afnan47/cuda.git\n",
            "  Cloning https://github.com/afnan47/cuda.git to /tmp/pip-req-build-4any113t\n",
            "  Running command git clone --filter=blob:none --quiet https://github.com/afnan47/cuda.git /tmp/pip-req-build-4any113t\n",
            "  Resolved https://github.com/afnan47/cuda.git to commit aac710a35f52bb78ab34d2e52517237941399eff\n",
            "  Preparing metadata (setup.py) ... \u001b[?25l\u001b[?25hdone\n",
            "Building wheels for collected packages: NVCCPlugin\n",
            "  Building wheel for NVCCPlugin (setup.py) ... \u001b[?25l\u001b[?25hdone\n",
            "  Created wheel for NVCCPlugin: filename=NVCCPlugin-0.0.2-py3-none-any.whl size=4289 sha256=7ca17e541c4a029b45cd484b77537c1e5f23c131deb79f78e5f877617bba9385\n",
            "  Stored in directory: /tmp/pip-ephem-wheel-cache-3p7teppe/wheels/aa/f3/44/e10c1d226ec561d971fcd4b0463f6bff08602afa928a3e7bc7\n",
            "Successfully built NVCCPlugin\n",
            "Installing collected packages: NVCCPlugin\n",
            "Successfully installed NVCCPlugin-0.0.2\n",
            "created output directory at /content/src\n",
            "Out bin /content/result.out\n"
          ]
        }
      ]
    },
    {
      "cell_type": "code",
      "source": [
        "%%writefile add.cu\n",
        "#include <iostream>\n",
        "#include <vector>\n",
        "#include <cuda_runtime.h>\n",
        "\n",
        "// CUDA kernel to add two large vectors\n",
        "__global__ void vectorAdd(const int *a, const int *b, int *c, int size) {\n",
        "    int i = blockIdx.x * blockDim.x + threadIdx.x;\n",
        "    if (i < size) {\n",
        "        printf(\"Thread %d is computing c[%d] = a[%d] + b[%d]\\n\", threadIdx.x, i, i, i);\n",
        "        c[i] = a[i] + b[i];\n",
        "    }\n",
        "}\n",
        "\n",
        "int main() {\n",
        "    int size;\n",
        "    std::cout << \"Enter the size of the vectors: \";\n",
        "    std::cin >> size;\n",
        "\n",
        "    // Allocate memory for vectors on host\n",
        "    std::vector<int> host_a(size);\n",
        "    std::vector<int> host_b(size);\n",
        "    std::vector<int> host_c(size);\n",
        "\n",
        "    // Input elements of vectors\n",
        "    std::cout << \"Enter elements of vector A: \";\n",
        "    for (int i = 0; i < size; ++i) {\n",
        "        std::cin >> host_a[i];\n",
        "    }\n",
        "\n",
        "    std::cout << \"Enter elements of vector B: \";\n",
        "    for (int i = 0; i < size; ++i) {\n",
        "        std::cin >> host_b[i];\n",
        "    }\n",
        "\n",
        "    // Allocate memory for vectors on device\n",
        "    int *device_a, *device_b, *device_c;\n",
        "    cudaMalloc(&device_a, size * sizeof(int));\n",
        "    cudaMalloc(&device_b, size * sizeof(int));\n",
        "    cudaMalloc(&device_c, size * sizeof(int));\n",
        "\n",
        "    // Copy vectors from host to device\n",
        "    cudaMemcpy(device_a, host_a.data(), size * sizeof(int), cudaMemcpyHostToDevice);\n",
        "    cudaMemcpy(device_b, host_b.data(), size * sizeof(int), cudaMemcpyHostToDevice);\n",
        "\n",
        "    // Define grid and block dimensions\n",
        "    int blockSize = 256;\n",
        "    int numBlocks = (size + blockSize - 1) / blockSize;\n",
        "\n",
        "    // Launch kernel\n",
        "    vectorAdd<<<numBlocks, blockSize>>>(device_a, device_b, device_c, size);\n",
        "\n",
        "    // Copy result vector from device to host\n",
        "    cudaMemcpy(host_c.data(), device_c, size * sizeof(int), cudaMemcpyDeviceToHost);\n",
        "\n",
        "    // Print result\n",
        "    std::cout << \"Result vector:\" << std::endl;\n",
        "    for (int i = 0; i < size; ++i) {\n",
        "        std::cout << host_a[i] << \" + \" << host_b[i] << \" = \" << host_c[i] << std::endl;\n",
        "    }\n",
        "\n",
        "    // Free device memory\n",
        "    cudaFree(device_a);\n",
        "    cudaFree(device_b);\n",
        "    cudaFree(device_c);\n",
        "\n",
        "    return 0;\n",
        "}\n"
      ],
      "metadata": {
        "colab": {
          "base_uri": "https://localhost:8080/"
        },
        "id": "VASpE6rxTRWG",
        "outputId": "18f9ad98-b250-4049-bb20-de3674fe610d"
      },
      "execution_count": 9,
      "outputs": [
        {
          "output_type": "stream",
          "name": "stdout",
          "text": [
            "Overwriting add.cu\n"
          ]
        }
      ]
    },
    {
      "cell_type": "code",
      "source": [
        "!nvcc add.cu -o add\n",
        "!./add"
      ],
      "metadata": {
        "colab": {
          "base_uri": "https://localhost:8080/"
        },
        "id": "qwaTJJxBTeor",
        "outputId": "b2f500ce-87da-4146-b1b5-f2321d8cf5a1"
      },
      "execution_count": 10,
      "outputs": [
        {
          "output_type": "stream",
          "name": "stdout",
          "text": [
            "Enter the size of the vectors: 4\n",
            "Enter elements of vector A: 12 2 3 4\n",
            "Enter elements of vector B: 44 3 23 55\n",
            "Thread 0 is computing c[0] = a[0] + b[0]\n",
            "Thread 1 is computing c[1] = a[1] + b[1]\n",
            "Thread 2 is computing c[2] = a[2] + b[2]\n",
            "Thread 3 is computing c[3] = a[3] + b[3]\n",
            "Result vector:\n",
            "12 + 44 = 56\n",
            "2 + 3 = 5\n",
            "3 + 23 = 26\n",
            "4 + 55 = 59\n"
          ]
        }
      ]
    },
    {
      "cell_type": "code",
      "source": [],
      "metadata": {
        "id": "MMx79J3wTh0e"
      },
      "execution_count": null,
      "outputs": []
    }
  ]
}