{
  "nbformat": 4,
  "nbformat_minor": 0,
  "metadata": {
    "colab": {
      "provenance": []
    },
    "kernelspec": {
      "name": "python3",
      "display_name": "Python 3"
    },
    "language_info": {
      "name": "python"
    }
  },
  "cells": [
    {
      "cell_type": "code",
      "execution_count": 1,
      "metadata": {
        "colab": {
          "base_uri": "https://localhost:8080/"
        },
        "id": "ciuLbfT6PreX",
        "outputId": "a5d8aa8d-05b1-4307-e753-7d6c446141dc"
      },
      "outputs": [
        {
          "output_type": "stream",
          "name": "stdout",
          "text": [
            "Reading package lists... Done\n",
            "Building dependency tree... Done\n",
            "Reading state information... Done\n",
            "The following additional packages will be installed:\n",
            "  libomp-14-dev libomp5-14\n",
            "Suggested packages:\n",
            "  libomp-14-doc\n",
            "The following NEW packages will be installed:\n",
            "  libomp-14-dev libomp-dev libomp5-14\n",
            "0 upgraded, 3 newly installed, 0 to remove and 45 not upgraded.\n",
            "Need to get 738 kB of archives.\n",
            "After this operation, 8,991 kB of additional disk space will be used.\n",
            "Get:1 http://archive.ubuntu.com/ubuntu jammy-updates/universe amd64 libomp5-14 amd64 1:14.0.0-1ubuntu1.1 [389 kB]\n",
            "Get:2 http://archive.ubuntu.com/ubuntu jammy-updates/universe amd64 libomp-14-dev amd64 1:14.0.0-1ubuntu1.1 [347 kB]\n",
            "Get:3 http://archive.ubuntu.com/ubuntu jammy/universe amd64 libomp-dev amd64 1:14.0-55~exp2 [3,074 B]\n",
            "Fetched 738 kB in 1s (1,095 kB/s)\n",
            "Selecting previously unselected package libomp5-14:amd64.\n",
            "(Reading database ... 121752 files and directories currently installed.)\n",
            "Preparing to unpack .../libomp5-14_1%3a14.0.0-1ubuntu1.1_amd64.deb ...\n",
            "Unpacking libomp5-14:amd64 (1:14.0.0-1ubuntu1.1) ...\n",
            "Selecting previously unselected package libomp-14-dev.\n",
            "Preparing to unpack .../libomp-14-dev_1%3a14.0.0-1ubuntu1.1_amd64.deb ...\n",
            "Unpacking libomp-14-dev (1:14.0.0-1ubuntu1.1) ...\n",
            "Selecting previously unselected package libomp-dev:amd64.\n",
            "Preparing to unpack .../libomp-dev_1%3a14.0-55~exp2_amd64.deb ...\n",
            "Unpacking libomp-dev:amd64 (1:14.0-55~exp2) ...\n",
            "Setting up libomp5-14:amd64 (1:14.0.0-1ubuntu1.1) ...\n",
            "Setting up libomp-14-dev (1:14.0.0-1ubuntu1.1) ...\n",
            "Setting up libomp-dev:amd64 (1:14.0-55~exp2) ...\n",
            "Processing triggers for libc-bin (2.35-0ubuntu3.4) ...\n",
            "/sbin/ldconfig.real: /usr/local/lib/libtbbmalloc.so.2 is not a symbolic link\n",
            "\n",
            "/sbin/ldconfig.real: /usr/local/lib/libtbbbind_2_0.so.3 is not a symbolic link\n",
            "\n",
            "/sbin/ldconfig.real: /usr/local/lib/libtbbbind.so.3 is not a symbolic link\n",
            "\n",
            "/sbin/ldconfig.real: /usr/local/lib/libtbb.so.12 is not a symbolic link\n",
            "\n",
            "/sbin/ldconfig.real: /usr/local/lib/libtbbbind_2_5.so.3 is not a symbolic link\n",
            "\n",
            "/sbin/ldconfig.real: /usr/local/lib/libtbbmalloc_proxy.so.2 is not a symbolic link\n",
            "\n"
          ]
        }
      ],
      "source": [
        "!apt-get install libomp-dev"
      ]
    },
    {
      "cell_type": "code",
      "source": [
        "%%writefile bfs.cpp\n",
        "#include <iostream>\n",
        "#include <vector>\n",
        "#include <queue>\n",
        "#include <omp.h>\n",
        "\n",
        "using namespace std;\n",
        "\n",
        "class Graph {\n",
        "    int V;\n",
        "    vector<vector<int>> adj;\n",
        "\n",
        "public:\n",
        "    Graph(int V) : V(V) {\n",
        "        adj.resize(V);\n",
        "    }\n",
        "\n",
        "    void addEdge(int v, int w) {\n",
        "        adj[v].push_back(w);\n",
        "    }\n",
        "\n",
        "    void BFS(int s) {\n",
        "        vector<bool> visited(V, false);\n",
        "        queue<int> q;\n",
        "\n",
        "        visited[s] = true;\n",
        "        q.push(s);\n",
        "\n",
        "        while (!q.empty()) {\n",
        "            int u = q.front();\n",
        "            q.pop();\n",
        "            cout << u << \" \";\n",
        "\n",
        "            #pragma omp parallel for\n",
        "            for (int i = 0; i < adj[u].size(); ++i) {\n",
        "                int v = adj[u][i];\n",
        "                if (!visited[v]) {\n",
        "                    visited[v] = true;\n",
        "                    q.push(v);\n",
        "                }\n",
        "            }\n",
        "        }\n",
        "    }\n",
        "};\n",
        "\n",
        "int main() {\n",
        "    int V, E;\n",
        "    cout << \"Enter the number of vertices: \";\n",
        "    cin >> V;\n",
        "    cout << \"Enter the number of edges: \";\n",
        "    cin >> E;\n",
        "\n",
        "    Graph g(V);\n",
        "\n",
        "    cout << \"Enter the edges (source and destination):\" << endl;\n",
        "    for (int i = 0; i < E; ++i) {\n",
        "        int u, v;\n",
        "        cin >> u >> v;\n",
        "        g.addEdge(u, v);\n",
        "    }\n",
        "\n",
        "    #pragma omp parallel num_threads(2)\n",
        "    {\n",
        "        #pragma omp single\n",
        "        {\n",
        "            g.BFS(0);\n",
        "        }\n",
        "    }\n",
        "\n",
        "    return 0;\n",
        "}\n",
        "//g++ -fopenmp bfs.cpp -o bfs.cpp\n",
        "//./bfs"
      ],
      "metadata": {
        "colab": {
          "base_uri": "https://localhost:8080/"
        },
        "id": "K6NCNyJZP6OB",
        "outputId": "3a8af6a6-4df1-44f3-bf37-e0e672efd9ab"
      },
      "execution_count": 4,
      "outputs": [
        {
          "output_type": "stream",
          "name": "stdout",
          "text": [
            "Writing bfs.cpp\n"
          ]
        }
      ]
    },
    {
      "cell_type": "code",
      "source": [
        "!clang++ -fopenmp bfs.cpp -o bfs\n",
        "!./bfs"
      ],
      "metadata": {
        "colab": {
          "base_uri": "https://localhost:8080/"
        },
        "id": "2buXOYyRQpES",
        "outputId": "e8479ee0-75d0-44fc-c53d-c50e4fba590c"
      },
      "execution_count": 6,
      "outputs": [
        {
          "output_type": "stream",
          "name": "stdout",
          "text": [
            "Enter the number of vertices: 4\n",
            "Enter the number of edges: 3\n",
            "Enter the edges (source and destination):\n",
            "0 1\n",
            "0 2\n",
            "1 3\n",
            "0 1 2 3 "
          ]
        }
      ]
    },
    {
      "cell_type": "code",
      "source": [],
      "metadata": {
        "id": "LiitDHYGQwAu"
      },
      "execution_count": null,
      "outputs": []
    }
  ]
}