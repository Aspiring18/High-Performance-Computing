{
  "nbformat": 4,
  "nbformat_minor": 0,
  "metadata": {
    "colab": {
      "provenance": []
    },
    "kernelspec": {
      "name": "python3",
      "display_name": "Python 3"
    },
    "language_info": {
      "name": "python"
    }
  },
  "cells": [
    {
      "cell_type": "code",
      "execution_count": 1,
      "metadata": {
        "colab": {
          "base_uri": "https://localhost:8080/"
        },
        "id": "ciuLbfT6PreX",
        "outputId": "a5d8aa8d-05b1-4307-e753-7d6c446141dc"
      },
      "outputs": [
        {
          "output_type": "stream",
          "name": "stdout",
          "text": [
            "Reading package lists... Done\n",
            "Building dependency tree... Done\n",
            "Reading state information... Done\n",
            "The following additional packages will be installed:\n",
            "  libomp-14-dev libomp5-14\n",
            "Suggested packages:\n",
            "  libomp-14-doc\n",
            "The following NEW packages will be installed:\n",
            "  libomp-14-dev libomp-dev libomp5-14\n",
            "0 upgraded, 3 newly installed, 0 to remove and 45 not upgraded.\n",
            "Need to get 738 kB of archives.\n",
            "After this operation, 8,991 kB of additional disk space will be used.\n",
            "Get:1 http://archive.ubuntu.com/ubuntu jammy-updates/universe amd64 libomp5-14 amd64 1:14.0.0-1ubuntu1.1 [389 kB]\n",
            "Get:2 http://archive.ubuntu.com/ubuntu jammy-updates/universe amd64 libomp-14-dev amd64 1:14.0.0-1ubuntu1.1 [347 kB]\n",
            "Get:3 http://archive.ubuntu.com/ubuntu jammy/universe amd64 libomp-dev amd64 1:14.0-55~exp2 [3,074 B]\n",
            "Fetched 738 kB in 1s (1,095 kB/s)\n",
            "Selecting previously unselected package libomp5-14:amd64.\n",
            "(Reading database ... 121752 files and directories currently installed.)\n",
            "Preparing to unpack .../libomp5-14_1%3a14.0.0-1ubuntu1.1_amd64.deb ...\n",
            "Unpacking libomp5-14:amd64 (1:14.0.0-1ubuntu1.1) ...\n",
            "Selecting previously unselected package libomp-14-dev.\n",
            "Preparing to unpack .../libomp-14-dev_1%3a14.0.0-1ubuntu1.1_amd64.deb ...\n",
            "Unpacking libomp-14-dev (1:14.0.0-1ubuntu1.1) ...\n",
            "Selecting previously unselected package libomp-dev:amd64.\n",
            "Preparing to unpack .../libomp-dev_1%3a14.0-55~exp2_amd64.deb ...\n",
            "Unpacking libomp-dev:amd64 (1:14.0-55~exp2) ...\n",
            "Setting up libomp5-14:amd64 (1:14.0.0-1ubuntu1.1) ...\n",
            "Setting up libomp-14-dev (1:14.0.0-1ubuntu1.1) ...\n",
            "Setting up libomp-dev:amd64 (1:14.0-55~exp2) ...\n",
            "Processing triggers for libc-bin (2.35-0ubuntu3.4) ...\n",
            "/sbin/ldconfig.real: /usr/local/lib/libtbbmalloc.so.2 is not a symbolic link\n",
            "\n",
            "/sbin/ldconfig.real: /usr/local/lib/libtbbbind_2_0.so.3 is not a symbolic link\n",
            "\n",
            "/sbin/ldconfig.real: /usr/local/lib/libtbbbind.so.3 is not a symbolic link\n",
            "\n",
            "/sbin/ldconfig.real: /usr/local/lib/libtbb.so.12 is not a symbolic link\n",
            "\n",
            "/sbin/ldconfig.real: /usr/local/lib/libtbbbind_2_5.so.3 is not a symbolic link\n",
            "\n",
            "/sbin/ldconfig.real: /usr/local/lib/libtbbmalloc_proxy.so.2 is not a symbolic link\n",
            "\n"
          ]
        }
      ],
      "source": [
        "!apt-get install libomp-dev"
      ]
    },
    {
      "cell_type": "code",
      "source": [
        "%%writefile merge.cpp\n",
        "#include <iostream>\n",
        "#include <omp.h>\n",
        "\n",
        "using namespace std;\n",
        "\n",
        "void merge(int arr[], int l, int m, int r) {\n",
        "    int n1 = m - l + 1;\n",
        "    int n2 = r - m;\n",
        "\n",
        "    int L[n1], R[n2];\n",
        "\n",
        "    for (int i = 0; i < n1; i++)\n",
        "        L[i] = arr[l + i];\n",
        "    for (int j = 0; j < n2; j++)\n",
        "        R[j] = arr[m + 1 + j];\n",
        "\n",
        "    int i = 0;\n",
        "    int j = 0;\n",
        "    int k = l;\n",
        "    while (i < n1 && j < n2) {\n",
        "        if (L[i] <= R[j]) {\n",
        "            arr[k] = L[i];\n",
        "            i++;\n",
        "        } else {\n",
        "            arr[k] = R[j];\n",
        "            j++;\n",
        "        }\n",
        "        k++;\n",
        "    }\n",
        "\n",
        "    while (i < n1) {\n",
        "        arr[k] = L[i];\n",
        "        i++;\n",
        "        k++;\n",
        "    }\n",
        "\n",
        "    while (j < n2) {\n",
        "        arr[k] = R[j];\n",
        "        j++;\n",
        "        k++;\n",
        "    }\n",
        "}\n",
        "\n",
        "void mergeSortSerial(int arr[], int l, int r) {\n",
        "    if (l >= r) {\n",
        "        return;\n",
        "    }\n",
        "    int m = l + (r - l) / 2;\n",
        "\n",
        "    mergeSortSerial(arr, l, m);\n",
        "    mergeSortSerial(arr, m + 1, r);\n",
        "\n",
        "    merge(arr, l, m, r);\n",
        "}\n",
        "\n",
        "void mergeSortParallel(int arr[], int l, int r) {\n",
        "    if (l >= r) {\n",
        "        return;\n",
        "    }\n",
        "    int m = l + (r - l) / 2;\n",
        "\n",
        "    #pragma omp parallel sections\n",
        "    {\n",
        "        #pragma omp section\n",
        "        mergeSortParallel(arr, l, m);\n",
        "        #pragma omp section\n",
        "        mergeSortParallel(arr, m + 1, r);\n",
        "    }\n",
        "    merge(arr, l, m, r);\n",
        "}\n",
        "\n",
        "int main() {\n",
        "    int n;\n",
        "    cout << \"Enter the number of elements: \";\n",
        "    cin >> n;\n",
        "\n",
        "    int arr_serial[n], arr_parallel[n];\n",
        "    cout << \"Enter the elements: \";\n",
        "    for (int i = 0; i < n; i++) {\n",
        "        cin >> arr_serial[i];\n",
        "        arr_parallel[i] = arr_serial[i];\n",
        "    }\n",
        "\n",
        "    double start, end;\n",
        "\n",
        "    // Measure performance of serial merge sort\n",
        "    start = omp_get_wtime();\n",
        "    mergeSortSerial(arr_serial, 0, n - 1);\n",
        "    end = omp_get_wtime();\n",
        "    cout << \"Sorted array using serial merge sort: \";\n",
        "    for (int i = 0; i < n; i++) {\n",
        "        cout << arr_serial[i] << \" \";\n",
        "    }\n",
        "    cout << endl;\n",
        "    cout << \"Serial merge sort time: \" << end - start << \" seconds\" << endl;\n",
        "\n",
        "    // Measure performance of parallel merge sort\n",
        "    start = omp_get_wtime();\n",
        "    mergeSortParallel(arr_parallel, 0, n - 1);\n",
        "    end = omp_get_wtime();\n",
        "    cout << \"Sorted array using parallel merge sort: \";\n",
        "    for (int i = 0; i < n; i++) {\n",
        "        cout << arr_parallel[i] << \" \";\n",
        "    }\n",
        "    cout << endl;\n",
        "    cout << \"Parallel merge sort time: \" << end - start << \" seconds\" << endl;\n",
        "\n",
        "    return 0;\n",
        "}\n"
      ],
      "metadata": {
        "colab": {
          "base_uri": "https://localhost:8080/"
        },
        "id": "K6NCNyJZP6OB",
        "outputId": "b4c9f883-1530-493d-ee63-72595af3ada9"
      },
      "execution_count": 10,
      "outputs": [
        {
          "output_type": "stream",
          "name": "stdout",
          "text": [
            "Writing merge.cpp\n"
          ]
        }
      ]
    },
    {
      "cell_type": "code",
      "source": [
        "!clang++ -fopenmp merge.cpp -o merge\n",
        "!./merge"
      ],
      "metadata": {
        "colab": {
          "base_uri": "https://localhost:8080/"
        },
        "id": "2buXOYyRQpES",
        "outputId": "64cbda3b-e75a-4ccb-d3f5-192376527ef8"
      },
      "execution_count": 11,
      "outputs": [
        {
          "output_type": "stream",
          "name": "stdout",
          "text": [
            "Enter the number of elements: 4\n",
            "Enter the elements: 121 33 45 17\n",
            "Sorted array using serial merge sort: 17 33 45 121 \n",
            "Serial merge sort time: 4.05312e-06 seconds\n",
            "Sorted array using parallel merge sort: 17 33 45 121 \n",
            "Parallel merge sort time: 0.00130987 seconds\n"
          ]
        }
      ]
    },
    {
      "cell_type": "code",
      "source": [],
      "metadata": {
        "id": "LiitDHYGQwAu"
      },
      "execution_count": null,
      "outputs": []
    }
  ]
}